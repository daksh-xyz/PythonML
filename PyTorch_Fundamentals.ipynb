{
  "nbformat": 4,
  "nbformat_minor": 0,
  "metadata": {
    "colab": {
      "provenance": []
    },
    "kernelspec": {
      "name": "python3",
      "display_name": "Python 3"
    },
    "language_info": {
      "name": "python"
    }
  },
  "cells": [
    {
      "cell_type": "code",
      "source": [
        "import torch\n",
        "import numpy as np\n",
        "import pandas as pd\n",
        "import matplotlib.pyplot as plt\n",
        "print(torch.__version__)"
      ],
      "metadata": {
        "colab": {
          "base_uri": "https://localhost:8080/"
        },
        "id": "d0BBT3NYtYfM",
        "outputId": "c13b3db0-8ca1-4f22-c0d5-b1eb6b515c27"
      },
      "execution_count": 36,
      "outputs": [
        {
          "output_type": "stream",
          "name": "stdout",
          "text": [
            "2.4.0+cu121\n"
          ]
        }
      ]
    },
    {
      "cell_type": "markdown",
      "source": [
        "# Introduction to Tensors\n",
        "\n",
        "## Creating tensors\n",
        "\n",
        "PyTorch tensors are created using `torch.tensor()` = https://pytorch.org/docs/stable/tensors.html"
      ],
      "metadata": {
        "id": "WRb1g9oMu1cS"
      }
    },
    {
      "cell_type": "code",
      "source": [
        "# scalar\n",
        "scalar  = torch.tensor(7)\n",
        "scalar"
      ],
      "metadata": {
        "colab": {
          "base_uri": "https://localhost:8080/"
        },
        "id": "knd1S-ZUvCBf",
        "outputId": "e1916568-a094-4adf-ceee-4c6b3381fa18"
      },
      "execution_count": 37,
      "outputs": [
        {
          "output_type": "execute_result",
          "data": {
            "text/plain": [
              "tensor(7)"
            ]
          },
          "metadata": {},
          "execution_count": 37
        }
      ]
    },
    {
      "cell_type": "code",
      "source": [
        "# get tensor back as an integer\n",
        "scalar.item()"
      ],
      "metadata": {
        "colab": {
          "base_uri": "https://localhost:8080/"
        },
        "id": "qr8SoHMEwq05",
        "outputId": "ea12426b-56ef-4546-c7f7-052e4162a58e"
      },
      "execution_count": 38,
      "outputs": [
        {
          "output_type": "execute_result",
          "data": {
            "text/plain": [
              "7"
            ]
          },
          "metadata": {},
          "execution_count": 38
        }
      ]
    },
    {
      "cell_type": "code",
      "source": [
        "vector = torch.tensor([7, 7])"
      ],
      "metadata": {
        "id": "LO9pzMRywvkI"
      },
      "execution_count": 39,
      "outputs": []
    },
    {
      "cell_type": "code",
      "source": [
        "vector.ndim"
      ],
      "metadata": {
        "colab": {
          "base_uri": "https://localhost:8080/"
        },
        "id": "meKgyhxBw-Fc",
        "outputId": "2722144a-d9ea-4516-ea77-70b14cbe9548"
      },
      "execution_count": 40,
      "outputs": [
        {
          "output_type": "execute_result",
          "data": {
            "text/plain": [
              "1"
            ]
          },
          "metadata": {},
          "execution_count": 40
        }
      ]
    },
    {
      "cell_type": "code",
      "source": [
        "vector.shape"
      ],
      "metadata": {
        "colab": {
          "base_uri": "https://localhost:8080/"
        },
        "id": "t9SePooHxAqp",
        "outputId": "11f09558-a438-4735-9289-bf8d41ca2538"
      },
      "execution_count": 41,
      "outputs": [
        {
          "output_type": "execute_result",
          "data": {
            "text/plain": [
              "torch.Size([2])"
            ]
          },
          "metadata": {},
          "execution_count": 41
        }
      ]
    },
    {
      "cell_type": "code",
      "source": [
        "# MATRIX\n",
        "MATRIX = torch.tensor([[1,2,3],[4,5,6],[7,8,9]])"
      ],
      "metadata": {
        "id": "nCscGgd9xbFR"
      },
      "execution_count": 42,
      "outputs": []
    },
    {
      "cell_type": "code",
      "source": [
        "MATRIX.ndim"
      ],
      "metadata": {
        "colab": {
          "base_uri": "https://localhost:8080/"
        },
        "id": "sgt1N_cnx9uX",
        "outputId": "c663aee0-41ad-4949-a9fb-9b315e125436"
      },
      "execution_count": 43,
      "outputs": [
        {
          "output_type": "execute_result",
          "data": {
            "text/plain": [
              "2"
            ]
          },
          "metadata": {},
          "execution_count": 43
        }
      ]
    },
    {
      "cell_type": "code",
      "source": [
        "MATRIX.shape"
      ],
      "metadata": {
        "colab": {
          "base_uri": "https://localhost:8080/"
        },
        "id": "mLSahAkhyCpH",
        "outputId": "b347dceb-0199-4812-ac10-0680a36c2523"
      },
      "execution_count": 44,
      "outputs": [
        {
          "output_type": "execute_result",
          "data": {
            "text/plain": [
              "torch.Size([3, 3])"
            ]
          },
          "metadata": {},
          "execution_count": 44
        }
      ]
    },
    {
      "cell_type": "code",
      "source": [
        "# TENSOR\n",
        "TENSOR = torch.tensor([[[1,2,3],\n",
        "                        [4,5,6],\n",
        "                        [7,8,9]],\n",
        "                       ])\n",
        "TENSOR"
      ],
      "metadata": {
        "colab": {
          "base_uri": "https://localhost:8080/"
        },
        "id": "vfriVvdDyDma",
        "outputId": "e17ca561-5345-4a4c-8d5c-c2dc5f622c18"
      },
      "execution_count": 45,
      "outputs": [
        {
          "output_type": "execute_result",
          "data": {
            "text/plain": [
              "tensor([[[1, 2, 3],\n",
              "         [4, 5, 6],\n",
              "         [7, 8, 9]]])"
            ]
          },
          "metadata": {},
          "execution_count": 45
        }
      ]
    },
    {
      "cell_type": "code",
      "source": [
        "TENSOR.ndim"
      ],
      "metadata": {
        "colab": {
          "base_uri": "https://localhost:8080/"
        },
        "id": "_aPUBiO4vTPt",
        "outputId": "6dffa782-654d-4345-fee0-dba2febbe336"
      },
      "execution_count": 46,
      "outputs": [
        {
          "output_type": "execute_result",
          "data": {
            "text/plain": [
              "3"
            ]
          },
          "metadata": {},
          "execution_count": 46
        }
      ]
    },
    {
      "cell_type": "code",
      "source": [
        "TENSOR.shape"
      ],
      "metadata": {
        "colab": {
          "base_uri": "https://localhost:8080/"
        },
        "id": "DvICyd1FvYKc",
        "outputId": "4340e2e6-c945-469e-ea62-8b2b1ef3e2bb"
      },
      "execution_count": 47,
      "outputs": [
        {
          "output_type": "execute_result",
          "data": {
            "text/plain": [
              "torch.Size([1, 3, 3])"
            ]
          },
          "metadata": {},
          "execution_count": 47
        }
      ]
    },
    {
      "cell_type": "code",
      "source": [
        "TENSOR[0][1][1]"
      ],
      "metadata": {
        "colab": {
          "base_uri": "https://localhost:8080/"
        },
        "id": "TTiKta7Wv6xL",
        "outputId": "834bf0f3-222f-43cc-ec28-4c59d02dab0a"
      },
      "execution_count": 48,
      "outputs": [
        {
          "output_type": "execute_result",
          "data": {
            "text/plain": [
              "tensor(5)"
            ]
          },
          "metadata": {},
          "execution_count": 48
        }
      ]
    },
    {
      "cell_type": "markdown",
      "source": [
        "### Random Twnsors\n",
        "\n",
        "Why random tensors?\n",
        "\n",
        "Random tensors are important because if the way many neural networks learn, they start with tensors full of random numbers and then adjust those numbers to better represent data.\n",
        "\n",
        "`start with random numbers -> look at data -> update random numbers -> look at data -> update random numberss`\n",
        "\n",
        "PyTorch rand = https://pytorch.org/docs/stable/generated/torch.rand.html"
      ],
      "metadata": {
        "id": "NbmG0zd4v-CA"
      }
    },
    {
      "cell_type": "code",
      "source": [
        "# Create a random tensor of size 3x4\n",
        "\n",
        "random_tensor = torch.rand(3,4)\n",
        "random_tensor.shape, random_tensor.ndim, random_tensor"
      ],
      "metadata": {
        "colab": {
          "base_uri": "https://localhost:8080/"
        },
        "id": "LBg0qG-8xx9M",
        "outputId": "dc0bb954-e0c4-4f9a-8f3f-026820e3fc0e"
      },
      "execution_count": 59,
      "outputs": [
        {
          "output_type": "execute_result",
          "data": {
            "text/plain": [
              "(torch.Size([3, 4]),\n",
              " 2,\n",
              " tensor([[0.7177, 0.6843, 0.1569, 0.7716],\n",
              "         [0.1577, 0.3059, 0.9245, 0.8014],\n",
              "         [0.3140, 0.1272, 0.9840, 0.3285]]))"
            ]
          },
          "metadata": {},
          "execution_count": 59
        }
      ]
    },
    {
      "cell_type": "code",
      "source": [
        "# Create a random tensor similar to an imagae tensor\n",
        "\n",
        "random_image_size_tensor = torch.rand(size=(3,224,224)) # color channels, height, width\n",
        "random_image_size_tensor.shape, random_image_size_tensor.ndim"
      ],
      "metadata": {
        "colab": {
          "base_uri": "https://localhost:8080/"
        },
        "id": "iK-uXsIhyH7n",
        "outputId": "c366d981-7d6a-48a0-be23-bfc99744529a"
      },
      "execution_count": 60,
      "outputs": [
        {
          "output_type": "execute_result",
          "data": {
            "text/plain": [
              "(torch.Size([3, 224, 224]),\n",
              " 3,\n",
              " tensor([[[0.5139, 0.3443, 0.9580,  ..., 0.4820, 0.3609, 0.9204],\n",
              "          [0.8032, 0.3680, 0.5076,  ..., 0.3078, 0.6331, 0.5801],\n",
              "          [0.9765, 0.3191, 0.7616,  ..., 0.1887, 0.5261, 0.3056],\n",
              "          ...,\n",
              "          [0.6501, 0.0375, 0.8181,  ..., 0.9700, 0.2674, 0.4248],\n",
              "          [0.5963, 0.2219, 0.3932,  ..., 0.8407, 0.6878, 0.3575],\n",
              "          [0.1140, 0.4962, 0.7918,  ..., 0.0345, 0.1553, 0.2793]],\n",
              " \n",
              "         [[0.9777, 0.4212, 0.3739,  ..., 0.1434, 0.5994, 0.0452],\n",
              "          [0.6878, 0.2028, 0.3406,  ..., 0.0426, 0.8080, 0.3406],\n",
              "          [0.9309, 0.5694, 0.4064,  ..., 0.9493, 0.2526, 0.8135],\n",
              "          ...,\n",
              "          [0.8969, 0.0098, 0.2718,  ..., 0.7469, 0.9929, 0.4720],\n",
              "          [0.2089, 0.3703, 0.6539,  ..., 0.0201, 0.2296, 0.1624],\n",
              "          [0.9085, 0.2680, 0.9264,  ..., 0.2515, 0.6110, 0.1908]],\n",
              " \n",
              "         [[0.3385, 0.1894, 0.5047,  ..., 0.7752, 0.6328, 0.5930],\n",
              "          [0.8325, 0.5161, 0.2797,  ..., 0.6660, 0.5129, 0.8737],\n",
              "          [0.5515, 0.9496, 0.8639,  ..., 0.1949, 0.1091, 0.5996],\n",
              "          ...,\n",
              "          [0.9927, 0.7753, 0.5650,  ..., 0.6214, 0.0650, 0.3762],\n",
              "          [0.7087, 0.3992, 0.8866,  ..., 0.3266, 0.8074, 0.1326],\n",
              "          [0.2667, 0.8710, 0.0721,  ..., 0.6810, 0.5301, 0.1407]]]))"
            ]
          },
          "metadata": {},
          "execution_count": 60
        }
      ]
    },
    {
      "cell_type": "code",
      "source": [
        "# Zeros and ones\n",
        "\n",
        "zeros = torch.zeros(size=(3,4))\n",
        "ones = torch.ones(size=(3,4))\n",
        "zeros,ones"
      ],
      "metadata": {
        "colab": {
          "base_uri": "https://localhost:8080/"
        },
        "id": "dLzfJ1Y9zAXJ",
        "outputId": "499f5399-a573-42b0-b73c-d6f152cb03f0"
      },
      "execution_count": 62,
      "outputs": [
        {
          "output_type": "execute_result",
          "data": {
            "text/plain": [
              "(tensor([[0., 0., 0., 0.],\n",
              "         [0., 0., 0., 0.],\n",
              "         [0., 0., 0., 0.]]),\n",
              " tensor([[1., 1., 1., 1.],\n",
              "         [1., 1., 1., 1.],\n",
              "         [1., 1., 1., 1.]]))"
            ]
          },
          "metadata": {},
          "execution_count": 62
        }
      ]
    },
    {
      "cell_type": "code",
      "source": [
        "# Creating a tensor in range, torch.range() is deprecated, use torch.arange()\n",
        "\n",
        "ranged_tensor = torch.arange(1,11)\n",
        "ranged_tensor"
      ],
      "metadata": {
        "colab": {
          "base_uri": "https://localhost:8080/"
        },
        "id": "Ex1pi2HO0FBf",
        "outputId": "0c89dc5b-6545-461e-999a-eb60fb346cca"
      },
      "execution_count": 74,
      "outputs": [
        {
          "output_type": "execute_result",
          "data": {
            "text/plain": [
              "tensor([ 1,  2,  3,  4,  5,  6,  7,  8,  9, 10])"
            ]
          },
          "metadata": {},
          "execution_count": 74
        }
      ]
    },
    {
      "cell_type": "code",
      "source": [
        "zeroes = torch.zeros_like(input=ranged_tensor)\n",
        "zeroes"
      ],
      "metadata": {
        "colab": {
          "base_uri": "https://localhost:8080/"
        },
        "id": "wmohkieB1SCz",
        "outputId": "b7e157b8-02d4-4149-c3b4-467ea291cbc1"
      },
      "execution_count": 67,
      "outputs": [
        {
          "output_type": "execute_result",
          "data": {
            "text/plain": [
              "tensor([0, 0, 0, 0, 0, 0, 0, 0, 0, 0])"
            ]
          },
          "metadata": {},
          "execution_count": 67
        }
      ]
    },
    {
      "cell_type": "markdown",
      "source": [
        "# Tensor datatypes\n",
        "\n",
        "**Note:** Tensor datatypes are one of the 3 big issues I will run into while using PyTorch and deep learning\n",
        "\n",
        "1. Tensors not the right datatype\n",
        "1. Tensors not on the right device\n",
        "1. Tensors not in the right shape"
      ],
      "metadata": {
        "id": "nKSGlKAn2CDV"
      }
    },
    {
      "cell_type": "code",
      "source": [
        "float_32_tensor = torch.tensor([3.0, 60., 9.0], dtype=None, device=\"cpu\", requires_grad=False)\n",
        "float_32_tensor.dtype"
      ],
      "metadata": {
        "colab": {
          "base_uri": "https://localhost:8080/"
        },
        "id": "VbBUWdq23RTv",
        "outputId": "2d66fd30-a714-44d5-c3fb-c1c9cf70fb8a"
      },
      "execution_count": 78,
      "outputs": [
        {
          "output_type": "execute_result",
          "data": {
            "text/plain": [
              "torch.float32"
            ]
          },
          "metadata": {},
          "execution_count": 78
        }
      ]
    },
    {
      "cell_type": "code",
      "source": [],
      "metadata": {
        "id": "o8X6wi3H3ddq"
      },
      "execution_count": null,
      "outputs": []
    }
  ]
}